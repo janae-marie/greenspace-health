#Import osmnx and geopandas modules
import osmnx
import geopandas

#Load OSM data using place definition
def load_osm_greenspace():
    greenspace = osmnx.features.features_from_place("Phoenix, Arizona", {'leisure': 'park'}, which_result=None)
    return greenspace

load_osm_greenspace()
print(greenspace)



