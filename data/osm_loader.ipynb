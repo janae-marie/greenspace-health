{
 "cells": [
  {
   "cell_type": "code",
   "execution_count": 4,
   "id": "6a560a24-8002-45a1-bc84-8a4cde2c3795",
   "metadata": {},
   "outputs": [
    {
     "ename": "ModuleNotFoundError",
     "evalue": "No module named 'osmnx'",
     "output_type": "error",
     "traceback": [
      "\u001b[0;31m---------------------------------------------------------------------------\u001b[0m",
      "\u001b[0;31mModuleNotFoundError\u001b[0m                       Traceback (most recent call last)",
      "Cell \u001b[0;32mIn[4], line 2\u001b[0m\n\u001b[1;32m      1\u001b[0m \u001b[38;5;66;03m#Import osmnx and geopandas modules\u001b[39;00m\n\u001b[0;32m----> 2\u001b[0m \u001b[38;5;28;01mimport\u001b[39;00m \u001b[38;5;21;01mosmnx\u001b[39;00m\n\u001b[1;32m      3\u001b[0m \u001b[38;5;28;01mimport\u001b[39;00m \u001b[38;5;21;01mgeopandas\u001b[39;00m\n\u001b[1;32m      5\u001b[0m \u001b[38;5;66;03m#Load OSM data using place definition\u001b[39;00m\n",
      "\u001b[0;31mModuleNotFoundError\u001b[0m: No module named 'osmnx'"
     ]
    }
   ],
   "source": [
    "#Import osmnx and geopandas modules\n",
    "import osmnx\n",
    "import geopandas\n",
    "\n",
    "#Load OSM data using place definition\n",
    "def load_osm_greenspace():\n",
    "    greenspace = osmnx.features.features_from_place(\"Phoenix, Arizona\", {'leisure': 'park'}, which_result=None)\n",
    "    return greenspace\n",
    "\n",
    "load_osm_greenspace()\n",
    "print(greenspace)"
   ]
  },
  {
   "cell_type": "code",
   "execution_count": null,
   "id": "e1dfa279-dfb7-476c-abdb-cbfd623a90ca",
   "metadata": {},
   "outputs": [],
   "source": []
  }
 ],
 "metadata": {
  "kernelspec": {
   "display_name": "Python 3 (ipykernel)",
   "language": "python",
   "name": "python3"
  },
  "language_info": {
   "codemirror_mode": {
    "name": "ipython",
    "version": 3
   },
   "file_extension": ".py",
   "mimetype": "text/x-python",
   "name": "python",
   "nbconvert_exporter": "python",
   "pygments_lexer": "ipython3",
   "version": "3.12.4"
  }
 },
 "nbformat": 4,
 "nbformat_minor": 5
}
